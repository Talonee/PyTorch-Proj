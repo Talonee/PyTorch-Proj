{
 "cells": [
  {
   "cell_type": "code",
   "execution_count": 10,
   "metadata": {
    "collapsed": true,
    "jupyter": {
     "outputs_hidden": true
    }
   },
   "outputs": [
    {
     "name": "stdout",
     "output_type": "stream",
     "text": [
      "tensor([10.,  3.])\n",
      "torch.Size([2, 5])\n",
      "tensor([[0.2541, 0.4421, 0.6964, 0.1062, 0.8675],\n",
      "        [0.2970, 0.4033, 0.3287, 0.1493, 0.1993]])\n",
      "tensor([[0.2541, 0.4421, 0.6964, 0.1062, 0.8675, 0.2970, 0.4033, 0.3287, 0.1493,\n",
      "         0.1993]])\n",
      "tensor([[0.2541, 0.4421, 0.6964, 0.1062, 0.8675],\n",
      "        [0.2970, 0.4033, 0.3287, 0.1493, 0.1993]])\n"
     ]
    }
   ],
   "source": [
    "# PyTorch Basic\n",
    "import torch\n",
    "\n",
    "# Create a Tensor array\n",
    "x = torch.Tensor([5,3])\n",
    "y = torch.Tensor([2,1])\n",
    "\n",
    "print(x*y) # numpy operation\n",
    "\n",
    "'''\n",
    "'''\n",
    "\n",
    "x = torch.zeros([2,5]) # zero matrix of 2 rows, 5 cols (2 arrays of length 5)\n",
    "y = torch.rand([2,5]) # random matrix of 2 rows, 5 cols\n",
    "\n",
    "print(x.shape) # see dim\n",
    "print(y)\n",
    "\n",
    "'''\n",
    "'''\n",
    "\n",
    "print(y.view([1,10])) # reshape dim !(in-place)\n",
    "print(y)"
   ]
  },
  {
   "cell_type": "code",
   "execution_count": null,
   "metadata": {},
   "outputs": [],
   "source": [
    "######################### Set up datasets ########################"
   ]
  },
  {
   "cell_type": "code",
   "execution_count": 31,
   "metadata": {},
   "outputs": [],
   "source": [
    "import torch\n",
    "import torchvision\n",
    "from torchvision import transforms, datasets\n",
    "\n",
    "# Retrieve training and testing data, download and transform into Tensor \n",
    "# param(file loc, train, download, transform)\n",
    "train = datasets.MNIST(\"\", train=True, download=True,\n",
    "                      transform = transforms.Compose([transforms.ToTensor()]))\n",
    "\n",
    "test = datasets.MNIST(\"\", train=False, download=True,\n",
    "                      transform = transforms.Compose([transforms.ToTensor()]))\n",
    "\n",
    "\n",
    "# Load data as Torch object, helps iterate thru data\n",
    "\n",
    "# batch_size = gradient descent (optimization algorithm), controls the number of\n",
    "# training samples to work through before the model’s internal parameters are updated\n",
    "# shuffle = allows for better generalization principle\n",
    "\n",
    "# Within the dataset, feed 10 items at a time to the model, the model optimizes at each succession\n",
    "trainset = torch.utils.data.DataLoader(train, batch_size=10, shuffle=True)\n",
    "testset = torch.utils.data.DataLoader(test, batch_size=10, shuffle=True)"
   ]
  },
  {
   "cell_type": "code",
   "execution_count": 32,
   "metadata": {
    "collapsed": true,
    "jupyter": {
     "outputs_hidden": true
    }
   },
   "outputs": [
    {
     "name": "stdout",
     "output_type": "stream",
     "text": [
      "[tensor([[[[0., 0., 0.,  ..., 0., 0., 0.],\n",
      "          [0., 0., 0.,  ..., 0., 0., 0.],\n",
      "          [0., 0., 0.,  ..., 0., 0., 0.],\n",
      "          ...,\n",
      "          [0., 0., 0.,  ..., 0., 0., 0.],\n",
      "          [0., 0., 0.,  ..., 0., 0., 0.],\n",
      "          [0., 0., 0.,  ..., 0., 0., 0.]]],\n",
      "\n",
      "\n",
      "        [[[0., 0., 0.,  ..., 0., 0., 0.],\n",
      "          [0., 0., 0.,  ..., 0., 0., 0.],\n",
      "          [0., 0., 0.,  ..., 0., 0., 0.],\n",
      "          ...,\n",
      "          [0., 0., 0.,  ..., 0., 0., 0.],\n",
      "          [0., 0., 0.,  ..., 0., 0., 0.],\n",
      "          [0., 0., 0.,  ..., 0., 0., 0.]]],\n",
      "\n",
      "\n",
      "        [[[0., 0., 0.,  ..., 0., 0., 0.],\n",
      "          [0., 0., 0.,  ..., 0., 0., 0.],\n",
      "          [0., 0., 0.,  ..., 0., 0., 0.],\n",
      "          ...,\n",
      "          [0., 0., 0.,  ..., 0., 0., 0.],\n",
      "          [0., 0., 0.,  ..., 0., 0., 0.],\n",
      "          [0., 0., 0.,  ..., 0., 0., 0.]]],\n",
      "\n",
      "\n",
      "        ...,\n",
      "\n",
      "\n",
      "        [[[0., 0., 0.,  ..., 0., 0., 0.],\n",
      "          [0., 0., 0.,  ..., 0., 0., 0.],\n",
      "          [0., 0., 0.,  ..., 0., 0., 0.],\n",
      "          ...,\n",
      "          [0., 0., 0.,  ..., 0., 0., 0.],\n",
      "          [0., 0., 0.,  ..., 0., 0., 0.],\n",
      "          [0., 0., 0.,  ..., 0., 0., 0.]]],\n",
      "\n",
      "\n",
      "        [[[0., 0., 0.,  ..., 0., 0., 0.],\n",
      "          [0., 0., 0.,  ..., 0., 0., 0.],\n",
      "          [0., 0., 0.,  ..., 0., 0., 0.],\n",
      "          ...,\n",
      "          [0., 0., 0.,  ..., 0., 0., 0.],\n",
      "          [0., 0., 0.,  ..., 0., 0., 0.],\n",
      "          [0., 0., 0.,  ..., 0., 0., 0.]]],\n",
      "\n",
      "\n",
      "        [[[0., 0., 0.,  ..., 0., 0., 0.],\n",
      "          [0., 0., 0.,  ..., 0., 0., 0.],\n",
      "          [0., 0., 0.,  ..., 0., 0., 0.],\n",
      "          ...,\n",
      "          [0., 0., 0.,  ..., 0., 0., 0.],\n",
      "          [0., 0., 0.,  ..., 0., 0., 0.],\n",
      "          [0., 0., 0.,  ..., 0., 0., 0.]]]]), tensor([2, 3, 0, 2, 0, 4, 7, 6, 2, 0])]\n",
      "tensor(2)\n"
     ]
    }
   ],
   "source": [
    "# View a single data in matrix form\n",
    "for data in trainset:\n",
    "    print(data)\n",
    "    break\n",
    "    \n",
    "x, y = data[0][0], data[1][0] # access data matrix\n",
    "\n",
    "# ASSUMPTION: \n",
    "# x: compositions of images' pixels\n",
    "# y: values predicted, result of graphing x\n",
    "\n",
    "print(y)"
   ]
  },
  {
   "cell_type": "code",
   "execution_count": 33,
   "metadata": {
    "collapsed": true,
    "jupyter": {
     "outputs_hidden": true
    }
   },
   "outputs": [
    {
     "name": "stdout",
     "output_type": "stream",
     "text": [
      "torch.Size([1, 28, 28])\n"
     ]
    },
    {
     "data": {
      "image/png": "[encoded data removed]",
      "text/plain": [
       "<Figure size 432x288 with 1 Axes>"
      ]
     },
     "metadata": {
      "needs_background": "light"
     },
     "output_type": "display_data"
    }
   ],
   "source": [
    "# Plot a single data\n",
    "import matplotlib.pyplot as plt\n",
    "\n",
    "print(data[0][0].shape)\n",
    "plt.imshow(data[0][0].view(28, 28))\n",
    "plt.show() "
   ]
  },
  {
   "cell_type": "code",
   "execution_count": 29,
   "metadata": {
    "collapsed": true,
    "jupyter": {
     "outputs_hidden": true
    }
   },
   "outputs": [
    {
     "name": "stdout",
     "output_type": "stream",
     "text": [
      "{0: 5923, 1: 6742, 2: 5958, 3: 6131, 4: 5842, 5: 5421, 6: 5918, 7: 6265, 8: 5851, 9: 5949}\n",
      "0: 9.87\n",
      "1: 11.24\n",
      "2: 9.93\n",
      "3: 10.22\n",
      "4: 9.74\n",
      "5: 9.04\n",
      "6: 9.86\n",
      "7: 10.44\n",
      "8: 9.75\n",
      "9: 9.92\n"
     ]
    }
   ],
   "source": [
    "# When inputing data into the neural network, be mindful of batch size, shuffle,\n",
    "# balance\n",
    "\n",
    "# Balance: When there are even distribution of values\n",
    "# In a dataset where 60% of the values are 3's, and 40% are #1-9, it is not balanced.\n",
    "# To alleviate imbalanced dataset, modify weights of specific classes when calculating\n",
    "# loss.\n",
    "\n",
    "# Confirm a dataset is balanced\n",
    "total = 0\n",
    "counter_dict = {0:0, 1:0, 2:0, 3:0, 4:0, 5:0, 6:0, 7:0, 8:0, 9:0}\n",
    "\n",
    "for data in trainset:\n",
    "    Xs, ys = data\n",
    "    for y in ys:\n",
    "        counter_dict[int(y)] += 1\n",
    "        total += 1\n",
    "        \n",
    "print(counter_dict)\n",
    "\n",
    "for i in counter_dict:\n",
    "    print(f\"{i}: {counter_dict[i]/total*100:.2f}\")\n",
    "    \n",
    "# Since all values have very similar %, safe to assume it's balanced."
   ]
  },
  {
   "cell_type": "code",
   "execution_count": null,
   "metadata": {},
   "outputs": [],
   "source": [
    "######################### Build Neural Network ########################"
   ]
  },
  {
   "cell_type": "code",
   "execution_count": 34,
   "metadata": {},
   "outputs": [
    {
     "name": "stdout",
     "output_type": "stream",
     "text": [
      "Net(\n",
      "  (fc1): Linear(in_features=784, out_features=64, bias=True)\n",
      "  (fc2): Linear(in_features=64, out_features=64, bias=True)\n",
      "  (fc3): Linear(in_features=64, out_features=64, bias=True)\n",
      "  (fc4): Linear(in_features=64, out_features=10, bias=True)\n",
      ")\n"
     ]
    }
   ],
   "source": [
    "import torch.nn as nn # OOP in PyTorch\n",
    "import torch.nn.functional as F # Functions in PyTorch\n",
    "\n",
    "class Net(nn.Module):\n",
    "    def __init__(self):\n",
    "        super().__init__() # run init from parent class (nn.Module)\n",
    "        \n",
    "        # Define (3) fully-connected layers to nn\n",
    "        # self.fc1 = nn.Linear(input, output)\n",
    "        self.fc1 = nn.Linear(784, 64) # input: 784 from flatten 28x28 images\n",
    "                                      # output: 64 neurons in this hidden layers\n",
    "        self.fc2 = nn.Linear(64, 64) # input: 64 from fc1 output\n",
    "                                     # output: 64 neurons in this hidden layers\n",
    "        self.fc3 = nn.Linear(64, 64) # input: 64 from fc2 output\n",
    "                                     # output: 64 neurons in this hidden layers\n",
    "        self.fc4 = nn.Linear(64, 10) # input: 64 from fc3 output\n",
    "                                     # output: 10 classes from the MNIST #0-9\n",
    "    \n",
    "    def forward(self, x):\n",
    "        # F.relu = activation fxn (rectified linear unit)\n",
    "        x = F.relu(self.fc1(x)) # activate the entire layer 1 \n",
    "        x = F.relu(self.fc2(x))\n",
    "        x = F.relu(self.fc3(x))\n",
    "        x = self.fc4(x)\n",
    "        \n",
    "        return F.log_softmax(x, dim=1) \n",
    "            \n",
    "net = Net()\n",
    "print(net)"
   ]
  },
  {
   "cell_type": "code",
   "execution_count": 9,
   "metadata": {
    "collapsed": true,
    "jupyter": {
     "outputs_hidden": true
    }
   },
   "outputs": [
    {
     "name": "stdout",
     "output_type": "stream",
     "text": [
      "tensor([[-2.3287, -2.3579, -2.3603, -2.2117, -2.3223, -2.3536, -2.2444, -2.2307,\n",
      "         -2.3177, -2.3124]], grad_fn=<LogSoftmaxBackward>)\n"
     ]
    }
   ],
   "source": [
    "# Test nn\n",
    "X = torch.rand((28,28))\n",
    "X = X.view(-1, 28*28) # -1 = data of any size\n",
    "output = net(X)\n",
    "print(output)"
   ]
  },
  {
   "cell_type": "code",
   "execution_count": null,
   "metadata": {},
   "outputs": [],
   "source": [
    "######################### Training models ########################"
   ]
  },
  {
   "cell_type": "code",
   "execution_count": 35,
   "metadata": {},
   "outputs": [
    {
     "name": "stdout",
     "output_type": "stream",
     "text": [
      "tensor(0.0123, grad_fn=<NllLossBackward>)\n",
      "tensor(0.0134, grad_fn=<NllLossBackward>)\n",
      "tensor(0.0181, grad_fn=<NllLossBackward>)\n"
     ]
    }
   ],
   "source": [
    "# Loss (MSE): margin of error (try to minimize this value / increase confident interval)\n",
    "# - if predictions deviates a lot from actual results, loss fxn will return a large number\n",
    "\n",
    "import torch.optim as optim\n",
    "\n",
    "# par1: adjustable variables in the model\n",
    "# par2: learning rate (also 1e-03, get by trial&error) --> gradient descent hops\n",
    "optimizer = optim.Adam(net.parameters(), lr=0.001) \n",
    "\n",
    "# Epoch: full iteration through the entire data\n",
    "EPOCHS = 3\n",
    "\n",
    "for epoch in range(EPOCHS):\n",
    "    for data in trainset:\n",
    "        # Data is a \"Batch\" of featuresets and labels\n",
    "        X, y = data\n",
    "        \n",
    "        # print(X[0]) # rows of pixels making up an image (needs to be flatten)\n",
    "        # print(y[0]) # result of graphing X[0]\n",
    "        \n",
    "        net.zero_grad() # before passing data to NN, set up (reset) zero gradient \n",
    "        output = net(X.view(-1, 28*28)) # -1 replacable with any other batch size\n",
    "        \n",
    "        # If dataset is a scalar, use nll_loss; elif is a one-hot vector, use MSE\n",
    "        # One-hot encoding: description of an input\n",
    "        # Allows computer to understand input + human understand to output\n",
    "        # Length of each OHVector = # of categories (i.e. classifying dogs and cats yields [x, x])\n",
    "        loss = F.nll_loss(output, y) \n",
    "        loss.backward()\n",
    "        optimizer.step() # auto adjust weights\n",
    "    print(loss)"
   ]
  },
  {
   "cell_type": "code",
   "execution_count": 36,
   "metadata": {},
   "outputs": [
    {
     "name": "stdout",
     "output_type": "stream",
     "text": [
      "Accuracy:  0.977\n"
     ]
    }
   ],
   "source": [
    "# Check for the goodness of the network (*note: high accuracy != best)\n",
    "# It's less likely to achieve high acc. on real data\n",
    "correct = 0\n",
    "total = 0\n",
    "\n",
    "with torch.no_grad():\n",
    "    for data in trainset:\n",
    "        X, y = data\n",
    "        output = net(X.view(-1, 784))\n",
    "        for idx, i in enumerate(output):\n",
    "            if torch.argmax(i) == y[idx]:\n",
    "                correct += 1\n",
    "            total += 1\n",
    "print(\"Accuracy: \", round(correct/total, 3))"
   ]
  },
  {
   "cell_type": "code",
   "execution_count": 50,
   "metadata": {},
   "outputs": [
    {
     "data": {
      "image/png": "[encoded data removed]",
      "text/plain": [
       "<Figure size 432x288 with 1 Axes>"
      ]
     },
     "metadata": {
      "needs_background": "light"
     },
     "output_type": "display_data"
    },
    {
     "name": "stdout",
     "output_type": "stream",
     "text": [
      "tensor(9)\n"
     ]
    }
   ],
   "source": [
    "import matplotlib.pyplot as plt\n",
    "tVal = X[9]\n",
    "plt.imshow(tVal.view(28, 28))\n",
    "plt.show()\n",
    "print(torch.argmax(net(tVal.view(-1, 784))[0])) # verify"
   ]
  },
  {
   "cell_type": "code",
   "execution_count": null,
   "metadata": {},
   "outputs": [],
   "source": []
  }
 ],
 "metadata": {
  "kernelspec": {
   "display_name": "Python 3",
   "language": "python",
   "name": "python3"
  },
  "language_info": {
   "codemirror_mode": {
    "name": "ipython",
    "version": 3
   },
   "file_extension": ".py",
   "mimetype": "text/x-python",
   "name": "python",
   "nbconvert_exporter": "python",
   "pygments_lexer": "ipython3",
   "version": "3.7.4"
  }
 },
 "nbformat": 4,
 "nbformat_minor": 4
}
